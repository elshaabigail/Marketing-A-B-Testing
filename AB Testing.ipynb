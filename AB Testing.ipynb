{
  "nbformat": 4,
  "nbformat_minor": 0,
  "metadata": {
    "colab": {
      "provenance": []
    },
    "kernelspec": {
      "name": "python3",
      "display_name": "Python 3"
    },
    "language_info": {
      "name": "python"
    }
  },
  "cells": [
    {
      "cell_type": "markdown",
      "source": [
        "# Introduction\n",
        "\n",
        "Marketing companies often launch campaigns with the expectation of success, but due to the complexities of the market and the various possible approaches, results can be uncertain. To address this, they commonly utilize A/B tests, a randomized experimentation process. This involves presenting two or more versions of a variable to different segments of the audience simultaneously. The goal is to identify which version generates the most significant impact and drives essential business metrics.\n",
        "\n",
        "The purpose of the dataset is to analyze these groups and determine the success of the advertisements, the potential revenue the company can generate from the ads, and whether there is a statistically significant difference between the groups. This analysis aims to provide valuable insights into the effectiveness of the marketing strategies and the potential outcomes for the company's advertising efforts."
      ],
      "metadata": {
        "id": "PGfhBAYW1ByP"
      }
    },
    {
      "cell_type": "code",
      "source": [
        "import pandas as pd\n",
        "import numpy as np\n",
        "from matplotlib import pyplot\n",
        "import matplotlib.pyplot as plt\n",
        "import seaborn as sns\n",
        "import numpy as np\n",
        "import statsmodels.stats.proportion as ssp\n",
        "import statsmodels.stats.power as smp\n",
        "from statsmodels.stats.power import GofChisquarePower\n",
        "import math\n",
        "from scipy.stats import chi2_contingency"
      ],
      "metadata": {
        "id": "qP0b4471ExqY"
      },
      "execution_count": 1,
      "outputs": []
    },
    {
      "cell_type": "code",
      "source": [
        "# Code to read csv file into Colaboratory:\n",
        "!pip install -U -q PyDrive\n",
        "from pydrive.auth import GoogleAuth\n",
        "from pydrive.drive import GoogleDrive\n",
        "from google.colab import auth\n",
        "from oauth2client.client import GoogleCredentials\n",
        "# Authenticate and create the PyDrive client.\n",
        "auth.authenticate_user()\n",
        "gauth = GoogleAuth()\n",
        "gauth.credentials = GoogleCredentials.get_application_default()\n",
        "drive = GoogleDrive(gauth)"
      ],
      "metadata": {
        "id": "P82H2eDxLQoe"
      },
      "execution_count": 2,
      "outputs": []
    },
    {
      "cell_type": "code",
      "source": [
        "# Provide the link to share the file/folder located on Google Drive.\n",
        "link ='https://drive.google.com/file/d/1ous-K5goRfoA2hzWLTRI6FPuYhV_jhI9/view?usp=sharing'\n",
        "# Extract the ID of the file\n",
        "id = link.split(\"/\")[-2]\n",
        "# Create and load the dataset\n",
        "downloaded = drive.CreateFile({'id':id})\n",
        "downloaded.GetContentFile('marketing_AB.csv')"
      ],
      "metadata": {
        "id": "bRgS0wlPLQqt"
      },
      "execution_count": 3,
      "outputs": []
    },
    {
      "cell_type": "markdown",
      "source": [
        "The data used for this project is intended for conducting an A/B testing. It consists of 588,101 rows distributed across 7 columns. To start, we analyze the first five rows of the dataset to familiarize ourselves with its contents."
      ],
      "metadata": {
        "id": "voTI9mPFzCLf"
      }
    },
    {
      "cell_type": "code",
      "source": [
        "# Load original dataset as dataframe\n",
        "df = pd.read_csv('marketing_AB.csv',index_col=0)\n",
        "display(df.head())"
      ],
      "metadata": {
        "id": "dz1jJJI5LQsx",
        "colab": {
          "base_uri": "https://localhost:8080/",
          "height": 206
        },
        "outputId": "6176f995-7631-454f-9fc9-379f71d2505f"
      },
      "execution_count": 4,
      "outputs": [
        {
          "output_type": "display_data",
          "data": {
            "text/plain": [
              "   user id test group  converted  total ads most ads day  most ads hour\n",
              "0  1069124         ad      False        130       Monday             20\n",
              "1  1119715         ad      False         93      Tuesday             22\n",
              "2  1144181         ad      False         21      Tuesday             18\n",
              "3  1435133         ad      False        355      Tuesday             10\n",
              "4  1015700         ad      False        276       Friday             14"
            ],
            "text/html": [
              "\n",
              "\n",
              "  <div id=\"df-83067f47-2611-4e4d-a27d-3fdd1e33661c\">\n",
              "    <div class=\"colab-df-container\">\n",
              "      <div>\n",
              "<style scoped>\n",
              "    .dataframe tbody tr th:only-of-type {\n",
              "        vertical-align: middle;\n",
              "    }\n",
              "\n",
              "    .dataframe tbody tr th {\n",
              "        vertical-align: top;\n",
              "    }\n",
              "\n",
              "    .dataframe thead th {\n",
              "        text-align: right;\n",
              "    }\n",
              "</style>\n",
              "<table border=\"1\" class=\"dataframe\">\n",
              "  <thead>\n",
              "    <tr style=\"text-align: right;\">\n",
              "      <th></th>\n",
              "      <th>user id</th>\n",
              "      <th>test group</th>\n",
              "      <th>converted</th>\n",
              "      <th>total ads</th>\n",
              "      <th>most ads day</th>\n",
              "      <th>most ads hour</th>\n",
              "    </tr>\n",
              "  </thead>\n",
              "  <tbody>\n",
              "    <tr>\n",
              "      <th>0</th>\n",
              "      <td>1069124</td>\n",
              "      <td>ad</td>\n",
              "      <td>False</td>\n",
              "      <td>130</td>\n",
              "      <td>Monday</td>\n",
              "      <td>20</td>\n",
              "    </tr>\n",
              "    <tr>\n",
              "      <th>1</th>\n",
              "      <td>1119715</td>\n",
              "      <td>ad</td>\n",
              "      <td>False</td>\n",
              "      <td>93</td>\n",
              "      <td>Tuesday</td>\n",
              "      <td>22</td>\n",
              "    </tr>\n",
              "    <tr>\n",
              "      <th>2</th>\n",
              "      <td>1144181</td>\n",
              "      <td>ad</td>\n",
              "      <td>False</td>\n",
              "      <td>21</td>\n",
              "      <td>Tuesday</td>\n",
              "      <td>18</td>\n",
              "    </tr>\n",
              "    <tr>\n",
              "      <th>3</th>\n",
              "      <td>1435133</td>\n",
              "      <td>ad</td>\n",
              "      <td>False</td>\n",
              "      <td>355</td>\n",
              "      <td>Tuesday</td>\n",
              "      <td>10</td>\n",
              "    </tr>\n",
              "    <tr>\n",
              "      <th>4</th>\n",
              "      <td>1015700</td>\n",
              "      <td>ad</td>\n",
              "      <td>False</td>\n",
              "      <td>276</td>\n",
              "      <td>Friday</td>\n",
              "      <td>14</td>\n",
              "    </tr>\n",
              "  </tbody>\n",
              "</table>\n",
              "</div>\n",
              "      <button class=\"colab-df-convert\" onclick=\"convertToInteractive('df-83067f47-2611-4e4d-a27d-3fdd1e33661c')\"\n",
              "              title=\"Convert this dataframe to an interactive table.\"\n",
              "              style=\"display:none;\">\n",
              "\n",
              "  <svg xmlns=\"http://www.w3.org/2000/svg\" height=\"24px\"viewBox=\"0 0 24 24\"\n",
              "       width=\"24px\">\n",
              "    <path d=\"M0 0h24v24H0V0z\" fill=\"none\"/>\n",
              "    <path d=\"M18.56 5.44l.94 2.06.94-2.06 2.06-.94-2.06-.94-.94-2.06-.94 2.06-2.06.94zm-11 1L8.5 8.5l.94-2.06 2.06-.94-2.06-.94L8.5 2.5l-.94 2.06-2.06.94zm10 10l.94 2.06.94-2.06 2.06-.94-2.06-.94-.94-2.06-.94 2.06-2.06.94z\"/><path d=\"M17.41 7.96l-1.37-1.37c-.4-.4-.92-.59-1.43-.59-.52 0-1.04.2-1.43.59L10.3 9.45l-7.72 7.72c-.78.78-.78 2.05 0 2.83L4 21.41c.39.39.9.59 1.41.59.51 0 1.02-.2 1.41-.59l7.78-7.78 2.81-2.81c.8-.78.8-2.07 0-2.86zM5.41 20L4 18.59l7.72-7.72 1.47 1.35L5.41 20z\"/>\n",
              "  </svg>\n",
              "      </button>\n",
              "\n",
              "\n",
              "\n",
              "    <div id=\"df-87d6702f-82ad-44ba-a3c9-801b0efacbb5\">\n",
              "      <button class=\"colab-df-quickchart\" onclick=\"quickchart('df-87d6702f-82ad-44ba-a3c9-801b0efacbb5')\"\n",
              "              title=\"Suggest charts.\"\n",
              "              style=\"display:none;\">\n",
              "\n",
              "<svg xmlns=\"http://www.w3.org/2000/svg\" height=\"24px\"viewBox=\"0 0 24 24\"\n",
              "     width=\"24px\">\n",
              "    <g>\n",
              "        <path d=\"M19 3H5c-1.1 0-2 .9-2 2v14c0 1.1.9 2 2 2h14c1.1 0 2-.9 2-2V5c0-1.1-.9-2-2-2zM9 17H7v-7h2v7zm4 0h-2V7h2v10zm4 0h-2v-4h2v4z\"/>\n",
              "    </g>\n",
              "</svg>\n",
              "      </button>\n",
              "    </div>\n",
              "\n",
              "<style>\n",
              "  .colab-df-quickchart {\n",
              "    background-color: #E8F0FE;\n",
              "    border: none;\n",
              "    border-radius: 50%;\n",
              "    cursor: pointer;\n",
              "    display: none;\n",
              "    fill: #1967D2;\n",
              "    height: 32px;\n",
              "    padding: 0 0 0 0;\n",
              "    width: 32px;\n",
              "  }\n",
              "\n",
              "  .colab-df-quickchart:hover {\n",
              "    background-color: #E2EBFA;\n",
              "    box-shadow: 0px 1px 2px rgba(60, 64, 67, 0.3), 0px 1px 3px 1px rgba(60, 64, 67, 0.15);\n",
              "    fill: #174EA6;\n",
              "  }\n",
              "\n",
              "  [theme=dark] .colab-df-quickchart {\n",
              "    background-color: #3B4455;\n",
              "    fill: #D2E3FC;\n",
              "  }\n",
              "\n",
              "  [theme=dark] .colab-df-quickchart:hover {\n",
              "    background-color: #434B5C;\n",
              "    box-shadow: 0px 1px 3px 1px rgba(0, 0, 0, 0.15);\n",
              "    filter: drop-shadow(0px 1px 2px rgba(0, 0, 0, 0.3));\n",
              "    fill: #FFFFFF;\n",
              "  }\n",
              "</style>\n",
              "\n",
              "    <script>\n",
              "      async function quickchart(key) {\n",
              "        const containerElement = document.querySelector('#' + key);\n",
              "        const charts = await google.colab.kernel.invokeFunction(\n",
              "            'suggestCharts', [key], {});\n",
              "      }\n",
              "    </script>\n",
              "\n",
              "      <script>\n",
              "\n",
              "function displayQuickchartButton(domScope) {\n",
              "  let quickchartButtonEl =\n",
              "    domScope.querySelector('#df-87d6702f-82ad-44ba-a3c9-801b0efacbb5 button.colab-df-quickchart');\n",
              "  quickchartButtonEl.style.display =\n",
              "    google.colab.kernel.accessAllowed ? 'block' : 'none';\n",
              "}\n",
              "\n",
              "        displayQuickchartButton(document);\n",
              "      </script>\n",
              "      <style>\n",
              "    .colab-df-container {\n",
              "      display:flex;\n",
              "      flex-wrap:wrap;\n",
              "      gap: 12px;\n",
              "    }\n",
              "\n",
              "    .colab-df-convert {\n",
              "      background-color: #E8F0FE;\n",
              "      border: none;\n",
              "      border-radius: 50%;\n",
              "      cursor: pointer;\n",
              "      display: none;\n",
              "      fill: #1967D2;\n",
              "      height: 32px;\n",
              "      padding: 0 0 0 0;\n",
              "      width: 32px;\n",
              "    }\n",
              "\n",
              "    .colab-df-convert:hover {\n",
              "      background-color: #E2EBFA;\n",
              "      box-shadow: 0px 1px 2px rgba(60, 64, 67, 0.3), 0px 1px 3px 1px rgba(60, 64, 67, 0.15);\n",
              "      fill: #174EA6;\n",
              "    }\n",
              "\n",
              "    [theme=dark] .colab-df-convert {\n",
              "      background-color: #3B4455;\n",
              "      fill: #D2E3FC;\n",
              "    }\n",
              "\n",
              "    [theme=dark] .colab-df-convert:hover {\n",
              "      background-color: #434B5C;\n",
              "      box-shadow: 0px 1px 3px 1px rgba(0, 0, 0, 0.15);\n",
              "      filter: drop-shadow(0px 1px 2px rgba(0, 0, 0, 0.3));\n",
              "      fill: #FFFFFF;\n",
              "    }\n",
              "  </style>\n",
              "\n",
              "      <script>\n",
              "        const buttonEl =\n",
              "          document.querySelector('#df-83067f47-2611-4e4d-a27d-3fdd1e33661c button.colab-df-convert');\n",
              "        buttonEl.style.display =\n",
              "          google.colab.kernel.accessAllowed ? 'block' : 'none';\n",
              "\n",
              "        async function convertToInteractive(key) {\n",
              "          const element = document.querySelector('#df-83067f47-2611-4e4d-a27d-3fdd1e33661c');\n",
              "          const dataTable =\n",
              "            await google.colab.kernel.invokeFunction('convertToInteractive',\n",
              "                                                     [key], {});\n",
              "          if (!dataTable) return;\n",
              "\n",
              "          const docLinkHtml = 'Like what you see? Visit the ' +\n",
              "            '<a target=\"_blank\" href=https://colab.research.google.com/notebooks/data_table.ipynb>data table notebook</a>'\n",
              "            + ' to learn more about interactive tables.';\n",
              "          element.innerHTML = '';\n",
              "          dataTable['output_type'] = 'display_data';\n",
              "          await google.colab.output.renderOutput(dataTable, element);\n",
              "          const docLink = document.createElement('div');\n",
              "          docLink.innerHTML = docLinkHtml;\n",
              "          element.appendChild(docLink);\n",
              "        }\n",
              "      </script>\n",
              "    </div>\n",
              "  </div>\n"
            ]
          },
          "metadata": {}
        }
      ]
    },
    {
      "cell_type": "markdown",
      "source": [
        "In doing this project, we would like to know several things, which are listed below.\n",
        "\n",
        "\n",
        "1.   Exploratory data analysis\n",
        "2.   What is the conversion rate for the control and treatment variables?\n",
        "3.   Determine the minimum sample size needed for both control and treatment variables\n",
        "4.   Would employing ads make a difference at upselling the product? Are the differences statistically significant?\n",
        "\n"
      ],
      "metadata": {
        "id": "cn1jeH_M2VIf"
      }
    },
    {
      "cell_type": "markdown",
      "source": [
        "## 1. Exploratory data analysis\n",
        "\n",
        "Initially, we conduct exploratory data analysis (EDA) to gain a better understanding of the dataset's characteristics. EDA serves the purpose of observing initial trends and patterns within the data. This involves plotting figures and graphs that provide valuable insights into the information. Furthermore, EDA aids in assessing data quality, examining data distribution, and identifying the presence of any outliers or missing values. Through this process, we can uncover important aspects of the data that will guide further analysis and decision-making."
      ],
      "metadata": {
        "id": "jgiWM5ns5TJz"
      }
    },
    {
      "cell_type": "markdown",
      "source": [
        "We use `df.info()` to get a summary of a DataFrame."
      ],
      "metadata": {
        "id": "HTOLYEON5chh"
      }
    },
    {
      "cell_type": "code",
      "source": [
        "df.info"
      ],
      "metadata": {
        "id": "R6klhUebLQu1",
        "colab": {
          "base_uri": "https://localhost:8080/"
        },
        "outputId": "a4a4fa80-b119-46ce-ff6a-fb172c45dbe1"
      },
      "execution_count": 5,
      "outputs": [
        {
          "output_type": "execute_result",
          "data": {
            "text/plain": [
              "<bound method DataFrame.info of         user id test group  converted  total ads most ads day  most ads hour\n",
              "0       1069124         ad      False        130       Monday             20\n",
              "1       1119715         ad      False         93      Tuesday             22\n",
              "2       1144181         ad      False         21      Tuesday             18\n",
              "3       1435133         ad      False        355      Tuesday             10\n",
              "4       1015700         ad      False        276       Friday             14\n",
              "...         ...        ...        ...        ...          ...            ...\n",
              "588096  1278437         ad      False          1      Tuesday             23\n",
              "588097  1327975         ad      False          1      Tuesday             23\n",
              "588098  1038442         ad      False          3      Tuesday             23\n",
              "588099  1496395         ad      False          1      Tuesday             23\n",
              "588100  1237779         ad      False          1      Tuesday             23\n",
              "\n",
              "[588101 rows x 6 columns]>"
            ]
          },
          "metadata": {},
          "execution_count": 5
        }
      ]
    },
    {
      "cell_type": "markdown",
      "source": [
        "###Description of the dataset column\n",
        "\n",
        "In this phase, we provide a comprehensive description of the column definitions to understand the variables in the dataset accurately. This foundational understanding is crucial for making informed decisions and drawing meaningful conclusions from the data.\n",
        "\n",
        "*   `Index`: Row index\n",
        "*   `user id`: User ID (unique)\n",
        "*   `test group`: If \"ad\" the person saw the advertisement, if \"psa\" they only saw the public service announcement\n",
        "*   `converted`: If a person bought the product then True, else is False\n",
        "*   `total ads`: Amount of ads seen by person\n",
        "*   `most ads day`: Day that the person saw the biggest amount of ads\n",
        "*   `most ads hour`: Hour of day that the person saw the biggest amount of ads"
      ],
      "metadata": {
        "id": "8h7RXH5C5iao"
      }
    },
    {
      "cell_type": "markdown",
      "source": [
        "After obtaining a clear understanding of the column definitions, the next step is to drop duplicates from the dataset to ensure that all rows are distinct and unique. This process helps maintain data integrity and prevents redundant information from affecting the analysis."
      ],
      "metadata": {
        "id": "Rh_WIuXY6mVN"
      }
    },
    {
      "cell_type": "code",
      "source": [
        "df.drop_duplicates(inplace=True)"
      ],
      "metadata": {
        "id": "Jedi-dR_aiuG"
      },
      "execution_count": 6,
      "outputs": []
    },
    {
      "cell_type": "markdown",
      "source": [
        "Following the removal of duplicates, the subsequent step involves checking the data types to ensure that each data field is assigned to the correct type. Verifying the appropriate data types is essential for accurate computations and analyses, preventing potential errors arising from incorrect data formats."
      ],
      "metadata": {
        "id": "9zgu3Ps16n66"
      }
    },
    {
      "cell_type": "code",
      "source": [
        "df.dtypes"
      ],
      "metadata": {
        "id": "xBGOTkspEhSp",
        "colab": {
          "base_uri": "https://localhost:8080/"
        },
        "outputId": "b60f7fdc-5370-478d-cb41-1976482e1f13"
      },
      "execution_count": 7,
      "outputs": [
        {
          "output_type": "execute_result",
          "data": {
            "text/plain": [
              "user id           int64\n",
              "test group       object\n",
              "converted          bool\n",
              "total ads         int64\n",
              "most ads day     object\n",
              "most ads hour     int64\n",
              "dtype: object"
            ]
          },
          "metadata": {},
          "execution_count": 7
        }
      ]
    },
    {
      "cell_type": "markdown",
      "source": [
        "We have observed that the `most ads day` column is currently in the object data type, which should ideally be represented as a categorical data type, we can use the `pd.Categorical` function to convert it accordingly. By doing this conversion, we ensure that the `most ads day` data is represented in the appropriate categorical format, which can be more efficient for certain operations and analyses."
      ],
      "metadata": {
        "id": "IKhegGK67NgC"
      }
    },
    {
      "cell_type": "code",
      "source": [
        "cat = ['Monday', 'Tuesday', 'Wednesday', 'Thursday', 'Friday', 'Saturday', 'Sunday']\n",
        "df['most ads day'] = pd.Categorical(df['most ads day'], categories=cat, ordered=True)"
      ],
      "metadata": {
        "id": "sCSK9cst9WAM"
      },
      "execution_count": 8,
      "outputs": []
    },
    {
      "cell_type": "markdown",
      "source": [
        "Verifying whether the format has been changed"
      ],
      "metadata": {
        "id": "65uwiioA75uX"
      }
    },
    {
      "cell_type": "code",
      "source": [
        "df['most ads day'].dtype"
      ],
      "metadata": {
        "colab": {
          "base_uri": "https://localhost:8080/"
        },
        "id": "dBx7yEH47U0m",
        "outputId": "fa7bb507-e392-469a-aced-21b6bc28efa8"
      },
      "execution_count": 9,
      "outputs": [
        {
          "output_type": "execute_result",
          "data": {
            "text/plain": [
              "CategoricalDtype(categories=['Monday', 'Tuesday', 'Wednesday', 'Thursday', 'Friday',\n",
              "                  'Saturday', 'Sunday'],\n",
              ", ordered=True)"
            ]
          },
          "metadata": {},
          "execution_count": 9
        }
      ]
    },
    {
      "cell_type": "markdown",
      "source": [
        "##2. What is the conversion rate for the control and treatment variables?\n",
        "\n",
        "Controlled variables in an experiment are the ones that researchers intentionally hold constant or control. These variables are elements that researchers strive to keep consistent throughout their study to ensure they do not influence the outcomes. Hence, in other words, the controlled variables are features that remain unchanged throughout the experiment.\n",
        "\n",
        "Thus, within this dataset, the control group consists of individuals who were exposed to ads, whereas those who did not see the ads are referred to as the treatment group.\n",
        "\n",
        "[Conversion rate](https://chartio.com/learn/product-analytics/what-is-conversion-rate/) represents the average number of conversions per ad interaction, presented as a percentage. It is determined by dividing the total number of conversions by the number of ad interactions that can be attributed to a conversion within the same time period.\n",
        "\n",
        "$ Conversion Rate = \\dfrac{Total Conversions}{Total Interactions} $\n",
        "\n",
        "As an example, suppose there were 100 individuals in the control group, and within this group, 40 people purchased the product. To calculate the conversion rate, we divide the number of conversions (40) by the total number of people in the control group (100):\n",
        "\n",
        "Conversion Rate = Number of Conversions / Total Number in Control Group\n",
        "\n",
        "Conversion Rate = 40 / 100\n",
        "\n",
        "Conversion Rate = 0.4\n",
        "\n",
        "Therefore, the conversion rate for the control group is 0.4 or 40%. This indicates that 40% of the individuals in the control group made a purchase.\n"
      ],
      "metadata": {
        "id": "DsxhqdKLEZ5v"
      }
    },
    {
      "cell_type": "code",
      "source": [
        "# Number of conversions for control and treatment\n",
        "control_conversions = len(df[(df['test group']=='psa') & (df['converted']== True)])\n",
        "treatment_conversions = len(df[(df['test group']=='ad') & (df['converted']== True)])\n",
        "\n",
        "# Total number of observations for control and treatment\n",
        "control_total = len(df[df['test group']=='psa'])\n",
        "treatment_total = len(df[df['test group']=='ad'])\n",
        "\n",
        "# Calculating conversion rates\n",
        "control_conversion_rate = control_conversions / control_total\n",
        "treatment_conversion_rate = treatment_conversions / treatment_total\n",
        "\n",
        "# Printing the conversion rates\n",
        "print(\"Control Conversion Rate:\", control_conversion_rate)\n",
        "print(\"Treatment Conversion Rate:\", treatment_conversion_rate)"
      ],
      "metadata": {
        "id": "SZYfpHSaC2m9",
        "colab": {
          "base_uri": "https://localhost:8080/"
        },
        "outputId": "07ecf7a2-d430-4a82-fd62-92d1a761f3f7"
      },
      "execution_count": 10,
      "outputs": [
        {
          "output_type": "stream",
          "name": "stdout",
          "text": [
            "Control Conversion Rate: 0.01785410644448223\n",
            "Treatment Conversion Rate: 0.025546559636683747\n"
          ]
        }
      ]
    },
    {
      "cell_type": "markdown",
      "source": [
        "Alternatively, we can simplify the process by employing the `groupby` method to compute the conversion rate."
      ],
      "metadata": {
        "id": "uickAZcDGQNg"
      }
    },
    {
      "cell_type": "code",
      "source": [
        "conversion_rate = df.groupby('test group')['converted'].mean()\n",
        "print(conversion_rate)"
      ],
      "metadata": {
        "id": "feNPOH3t9jdc",
        "colab": {
          "base_uri": "https://localhost:8080/"
        },
        "outputId": "6b7529ab-8672-4571-ca67-b8f3ec1c82d0"
      },
      "execution_count": 11,
      "outputs": [
        {
          "output_type": "stream",
          "name": "stdout",
          "text": [
            "test group\n",
            "ad     0.025547\n",
            "psa    0.017854\n",
            "Name: converted, dtype: float64\n"
          ]
        }
      ]
    },
    {
      "cell_type": "markdown",
      "source": [
        "The results obtained from both approaches appear to be identical.\n",
        "\n",
        "Following that, we want to generate a bar chart representing the conversion rate for each day. To accomplish this, the initial step involves calculating the conversion rate for each day and organizing this data into a dataframe."
      ],
      "metadata": {
        "id": "uBwZqvsnHxE7"
      }
    },
    {
      "cell_type": "code",
      "source": [
        "# Calculate conversion rate by day and test group\n",
        "conversion_by_day = df.groupby([\"most ads day\", \"test group\"])[\"converted\"].mean()\n",
        "conversion_by_day"
      ],
      "metadata": {
        "id": "K0rFLMEJInI7",
        "colab": {
          "base_uri": "https://localhost:8080/"
        },
        "outputId": "d3599caf-1873-4878-f463-e9e7877c5ad1"
      },
      "execution_count": 12,
      "outputs": [
        {
          "output_type": "execute_result",
          "data": {
            "text/plain": [
              "most ads day  test group\n",
              "Monday        ad            0.033241\n",
              "              psa           0.022559\n",
              "Tuesday       ad            0.030440\n",
              "              psa           0.014448\n",
              "Wednesday     ad            0.025356\n",
              "              psa           0.015759\n",
              "Thursday      ad            0.021637\n",
              "              psa           0.020230\n",
              "Friday        ad            0.022465\n",
              "              psa           0.016303\n",
              "Saturday      ad            0.021307\n",
              "              psa           0.013996\n",
              "Sunday        ad            0.024620\n",
              "              psa           0.020595\n",
              "Name: converted, dtype: float64"
            ]
          },
          "metadata": {},
          "execution_count": 12
        }
      ]
    },
    {
      "cell_type": "markdown",
      "source": [
        "To construct a stacked bar chart, it is necessary to ensure that all the data is at the same level, where the day serves as the index, and `ad` and `psa` are represented as columns. In this context, we utilize the `unstack` function to achieve the desired data arrangement.\n",
        "\n",
        "The `unstack` method offers the option to include an additional parameter called \"level,\" which determines the hierarchical index level to be unstacked.\n",
        "In a DataFrame with multiple index levels (a multi-index DataFrame), you can choose which level to use for creating new columns. The levels are zero-indexed, meaning that level=0 corresponds to the first level, level=1 represents the second level, and so on.\n",
        "\n",
        "\n",
        "By applying the `unstack` method with `level=1` on the DataFrame, new columns 'I' and 'II' are created. This parameter allows you to specify the particular index level to pivot and transform into columns."
      ],
      "metadata": {
        "id": "a7RFUusjuTUP"
      }
    },
    {
      "cell_type": "code",
      "source": [
        "# Reshape the data from long to wide format\n",
        "conversion_by_day = conversion_by_day.unstack(level=1)\n",
        "\n",
        "# Print the result\n",
        "print(conversion_by_day)"
      ],
      "metadata": {
        "colab": {
          "base_uri": "https://localhost:8080/"
        },
        "id": "NdvPY7eZuTzY",
        "outputId": "b0aa0c67-8bd9-49dc-ae05-2264034acfc7"
      },
      "execution_count": 13,
      "outputs": [
        {
          "output_type": "stream",
          "name": "stdout",
          "text": [
            "test group          ad       psa\n",
            "most ads day                    \n",
            "Monday        0.033241  0.022559\n",
            "Tuesday       0.030440  0.014448\n",
            "Wednesday     0.025356  0.015759\n",
            "Thursday      0.021637  0.020230\n",
            "Friday        0.022465  0.016303\n",
            "Saturday      0.021307  0.013996\n",
            "Sunday        0.024620  0.020595\n"
          ]
        }
      ]
    },
    {
      "cell_type": "markdown",
      "source": [
        "As you can see, the DataFrame is \"unstacked\" using the values from Index Level 1 to create new columns 'I' and 'II'. The corresponding values are placed in their respective rows under these new columns."
      ],
      "metadata": {
        "id": "fKNy1sqcXrfp"
      }
    },
    {
      "cell_type": "code",
      "source": [
        "# Sort the values in descending order\n",
        "conversion_by_day = conversion_by_day.sort_values(by=[\"ad\", \"psa\"], ascending=False)\n",
        "\n",
        "# Create a stacked bar plot of the conversion rate by day and test group\n",
        "sns.set_style(\"whitegrid\")\n",
        "ax = conversion_by_day.plot(kind=\"bar\", stacked=True, figsize=(10, 6))\n",
        "plt.title(\"Conversion Rate by Test Group and Day of the Week\")\n",
        "plt.xlabel(\"Day of the Week\")\n",
        "plt.ylabel(\"Conversion Rate\")\n",
        "\n",
        "# Add value labels to each bar segment\n",
        "for i in range(conversion_by_day.shape[0]):\n",
        "    ad_value = conversion_by_day.iloc[i][\"ad\"]\n",
        "    psa_value = conversion_by_day.iloc[i][\"psa\"]\n",
        "    ax.text(i, ad_value / 2, f\"{ad_value:.4f}\", ha=\"center\", va=\"center\")\n",
        "    ax.text(i, ad_value + psa_value / 2, f\"{psa_value:.4f}\", ha=\"center\", va=\"center\")\n",
        "\n",
        "plt.legend(title=\"Test Group\", labels=[\"Ad\", \"PSA\"])\n",
        "plt.show()"
      ],
      "metadata": {
        "id": "9CLcZjeNIDPY",
        "colab": {
          "base_uri": "https://localhost:8080/",
          "height": 631
        },
        "outputId": "0059977b-59fd-46ba-8b54-63a2a2423f57"
      },
      "execution_count": 14,
      "outputs": [
        {
          "output_type": "display_data",
          "data": {
            "text/plain": [
              "<Figure size 1000x600 with 1 Axes>"
            ],
            "image/png": "[encoded data removed]"
          },
          "metadata": {}
        }
      ]
    },
    {
      "cell_type": "code",
      "source": [
        "0.1+0.2"
      ],
      "metadata": {
        "colab": {
          "base_uri": "https://localhost:8080/"
        },
        "id": "PgdjIedPZ2l5",
        "outputId": "c252c3d3-3b0e-4a8c-a2c7-54ecb3a91506"
      },
      "execution_count": 15,
      "outputs": [
        {
          "output_type": "execute_result",
          "data": {
            "text/plain": [
              "0.30000000000000004"
            ]
          },
          "metadata": {},
          "execution_count": 15
        }
      ]
    },
    {
      "cell_type": "markdown",
      "source": [
        "From the figure, it is evident that for both categories, `ad` and `psa`, Monday exhibits the highest conversion rate, indicating the day with the most significant number of successful actions or purchases. On the other hand, Saturday displays the lowest conversion rate for both categories, suggesting it is the day with the fewest successful actions or purchases."
      ],
      "metadata": {
        "id": "qdoywOBw4Cz5"
      }
    },
    {
      "cell_type": "markdown",
      "source": [
        "##3. Determine the minimum sample size needed for both control and treatment variables.\n",
        "\n",
        "[Power analysis](https://www.tibco.com/reference-center/what-is-power-analysis#:~:text=A%20power%20analysis%20is%20the,it%20is%20genuine%20and%20significant.) is the calculation used to determine the smallest sample size necessary for an experiment, considering the required significance level, statistical power, and effect size.\n",
        "\n",
        "In marketing, one method for analyzing the results of A/B testing is by employing the chi-square test. The chi-square test is a statistical analysis that compares the observed frequencies of categorical data to the expected frequencies, based on a specific hypothesis. Moreover, the chi-square test is commonly used to compare the distribution of categorical data, allowing researchers to assess whether there is a significant difference between the observed and expected distributions.\n",
        "\n",
        "There are two primary types of chi-square tests are commonly utilized: the Test for Independence and the Test for Homogeneity. The Test for Homogeneity serves the purpose of comparing the distribution of one categorical variable across various groups of another categorical variable. On the other hand, the Test for Independence aims to establish whether there is a statistically significant association between two categorical variables.\n",
        "\n",
        "In the context of A/B testing, we employ the chi-square test for independence to determine the statistical significance of the observed differences in proportions or frequencies between groups. This test helps discern whether these differences could have arisen by random chance or if there is a meaningful association between the variables \"exposure to different conditions\" (representing the experimental groups) and \"outcome\" (such as conversion).\n",
        "\n",
        "\n",
        "For conducting a power analysis using the chi square testing method, the appropriate module to utilize is `GofChisquarePower`. The GofChisquarePower function is part of the statsmodels library, which is not included in Python's standard library. As a result, readers need to install the statsmodels library separately before utilizing the GofChisquarePower function.This function is specifically designed to perform power analysis related to the chi-square goodness-of-fit test."
      ],
      "metadata": {
        "id": "9qYiBwkzEZwx"
      }
    },
    {
      "cell_type": "markdown",
      "source": [
        "Prior to conducting a power analysis, it is essential to establish the effect size for a test that compares two proportions."
      ],
      "metadata": {
        "id": "__UzLugYGnhQ"
      }
    },
    {
      "cell_type": "code",
      "source": [
        "# Calculate the effect size\n",
        "effect_size = ssp.proportion_effectsize(control_conversion_rate, treatment_conversion_rate)\n",
        "\n",
        "# Print the effect size\n",
        "print(\"Effect Size:\", effect_size)"
      ],
      "metadata": {
        "id": "KXqzyLx2Lf2c",
        "colab": {
          "base_uri": "https://localhost:8080/"
        },
        "outputId": "a9419ab3-ce5a-470f-8b59-c79d9e9985d9"
      },
      "execution_count": 16,
      "outputs": [
        {
          "output_type": "stream",
          "name": "stdout",
          "text": [
            "Effect Size: -0.053002578606030915\n"
          ]
        }
      ]
    },
    {
      "cell_type": "code",
      "source": [
        "# Perform power analysis\n",
        "analysis = GofChisquarePower()\n",
        "sample_size = analysis.solve_power(effect_size=effect_size, alpha=0.05, power=0.8)*2 ##times 2 because it's a one way test without it\n",
        "\n",
        "# Print the estimated minimum sample size\n",
        "print(\"Estimated Minimum Sample Size:\", round(float(sample_size)))"
      ],
      "metadata": {
        "id": "7A_38c-4GI6o",
        "colab": {
          "base_uri": "https://localhost:8080/"
        },
        "outputId": "fed3ac7f-33d4-4190-dd3f-2b1ae30ba011"
      },
      "execution_count": 17,
      "outputs": [
        {
          "output_type": "stream",
          "name": "stdout",
          "text": [
            "Estimated Minimum Sample Size: 5588\n"
          ]
        }
      ]
    },
    {
      "cell_type": "markdown",
      "source": [
        "Even though we have already obtained the sample mean using the `gofchisquarepower` method, we perform a manual sample size calculation using the z-score to verify the results,. This re-check helps ensure the accuracy of our findings."
      ],
      "metadata": {
        "id": "R0ztZWQnxWnP"
      }
    },
    {
      "cell_type": "markdown",
      "source": [
        "We have developed a function named `sample_size_calculator` that helps in determining the necessary sample size for estimating a population parameter with a specific level of confidence and a given margin of error. Within the function, we perform calculations to determine the sample size based on a [finite population](https://www.researchgate.net/publication/45459002_Pratical_Issues_in_Calculating_the_Sample_Size_for_Prevalence_Studies) and known in advance.\n",
        "\n",
        "The formula utilized in the function is as follows:\n",
        "\n",
        "\n",
        "$ n= \\frac{N * (Z^2) * (P * (1-P))}{(d^2 * (N - 1)) + Z^2 * P * (1-P)} $\n",
        "\n",
        "\n",
        "This formula proves useful when you possess prior information about the population size and aim to compute the required sample size for estimating a population proportion. Taking the population size into account allows for adjustments to the sample size accordingly. The inclusion of the finite population correction factor becomes particularly significant when the population is relatively small, and the sample size represents a substantial portion of the entire population."
      ],
      "metadata": {
        "id": "6hW8G9tT0KKW"
      }
    },
    {
      "cell_type": "markdown",
      "source": [
        "We aim for a confidence level of 99%, which corresponds to a Z-score of 2.576 in a standard normal distribution. With this Z-score, approximately 99% of the data falls within 2.576 standard deviations from the mean.\n",
        "\n",
        "\n",
        "Here is an overview of our decisions regarding the calculation of the sample size:\n",
        "\n",
        "* `Z = 2.576`: This value is used for the Z-score to achieve the desired 99% confidence level, ensuring that most of the data is within the specified range.\n",
        "\n",
        "* `d = 0.01`: Here, d represents the margin of error, which is the difference between the sample estimate and the true population parameter. We set it to 0.01 to have a 1% margin of error.\n",
        "\n",
        "* `P = 0.5`: In cases where the population proportion (P) is unknown, we assume P to be 0.5 (50%). This assumption provides a conservative estimate for the sample size, making the study more robust.\n",
        "\n",
        "By incorporating these parameters, we can calculate the appropriate sample size for the study with a 99% confidence level, a 1% margin of error, and an unknown population proportion."
      ],
      "metadata": {
        "id": "CusTLu8OmBzz"
      }
    },
    {
      "cell_type": "code",
      "source": [
        "def sample_size_calculator(N, Z = 2.576, P = 0.5, d = 0.01):\n",
        "    # math.ceil is to round up\n",
        "    return math.ceil((N * (Z**2) * (P * (1-P))) / ((d**2 * (N - 1)) + Z**2 * P * (1-P)))"
      ],
      "metadata": {
        "id": "M-PO2GEgCrk6"
      },
      "execution_count": 18,
      "outputs": []
    },
    {
      "cell_type": "markdown",
      "source": [
        "Subsequently, we input the data into the function."
      ],
      "metadata": {
        "id": "55vSLyASBcOx"
      }
    },
    {
      "cell_type": "code",
      "source": [
        "sample_size = sample_size_calculator(N=df.shape[0])\n",
        "print(f\"The required sample size is: {sample_size}\")"
      ],
      "metadata": {
        "colab": {
          "base_uri": "https://localhost:8080/"
        },
        "id": "ZQnjBCOGFHS8",
        "outputId": "d8df8945-065e-4280-ffb9-0eb44e2f3ad1"
      },
      "execution_count": 19,
      "outputs": [
        {
          "output_type": "stream",
          "name": "stdout",
          "text": [
            "The required sample size is: 16135\n"
          ]
        }
      ]
    },
    {
      "cell_type": "markdown",
      "source": [
        "The outcome varies depending on the sample size calculation method employed. The \"gofchisquarepower\" method yields a sample size of 5588, whereas using the equation proposed by [Naing et al.](https://www.researchgate.net/publication/45459002_Pratical_Issues_in_Calculating_the_Sample_Size_for_Prevalence_Studies) results in a sample size of 384. To account for this difference, both sample sizes will be retained, and subsequently, an A/B test will be conducted for each sample to determine if there are any discrepancies in the results."
      ],
      "metadata": {
        "id": "Bsg2jg-aBubc"
      }
    },
    {
      "cell_type": "markdown",
      "source": [
        "##4. Would employing ads make a difference at upselling the product?\n",
        "Does the implementation of ads result in a notable increase in product upselling? Is this difference statistically significant or merely due to chance? Our Null Hypothesis (H0) states that showing ads does not have a significant impact on the number of purchases. Conversely, the Alternative Hypothesis (H1) suggests that displaying ads does have a significant effect on the number of purchases.\n",
        "\n",
        "To investigate whether employing ads would have an impact on upselling the product, we will employ A/B testing. Specifically, we will use the chi-square test to analyze the data and draw conclusions regarding the potential difference in product upselling with the inclusion of ads. This statistical approach allows us to compare the outcomes of two groups, one with ads and the other without, and determine if there is a significant association between the ads and the product upselling performance.\n",
        "\n",
        "Initially, we parse the data based on the specified sample size for each test. In this scenario, we utilize the first sample size, which is 5588 items, as determined earlier. The data is then organized in a manner where each `test group` contains a sample size of 5588, ensuring that the groups have equal numbers of observations. This process is crucial for conducting valid A/B tests, as it allows for a fair and balanced comparison between the different experimental conditions.\n",
        "\n",
        "We also specify random_state = 1 to ensure that the data split remains consistent across different runs."
      ],
      "metadata": {
        "id": "PvZnSewtEZ8I"
      }
    },
    {
      "cell_type": "code",
      "source": [
        "df_5588 =  df.groupby(\"test group\").sample(n=5588, random_state=1)\n",
        "df_5588['test group'].value_counts()"
      ],
      "metadata": {
        "colab": {
          "base_uri": "https://localhost:8080/"
        },
        "id": "N_5NZ5cgLF5f",
        "outputId": "26756310-e6c5-442a-8a0d-9668379a196a"
      },
      "execution_count": 20,
      "outputs": [
        {
          "output_type": "execute_result",
          "data": {
            "text/plain": [
              "ad     5588\n",
              "psa    5588\n",
              "Name: test group, dtype: int64"
            ]
          },
          "metadata": {},
          "execution_count": 20
        }
      ]
    },
    {
      "cell_type": "markdown",
      "source": [
        "After gathering the necessary data, the next step is to use the pd.crosstab function to summarize and analyze the relationship between the `test group` and `converted` variables in the DataFrame. This function creates a contingency table that allows us to examine the frequency distribution of the two categorical variables and their association."
      ],
      "metadata": {
        "id": "w44aD1vvx9X0"
      }
    },
    {
      "cell_type": "code",
      "source": [
        "Xtab = pd.crosstab(df_5588['test group'], df_5588['converted'])\n",
        "\n",
        "print(Xtab)"
      ],
      "metadata": {
        "id": "IojL2T1rLF7n",
        "colab": {
          "base_uri": "https://localhost:8080/"
        },
        "outputId": "350ad2d5-2c49-4e3b-ba86-6266a9702f9b"
      },
      "execution_count": 21,
      "outputs": [
        {
          "output_type": "stream",
          "name": "stdout",
          "text": [
            "converted   False  True \n",
            "test group              \n",
            "ad           5437    151\n",
            "psa          5478    110\n"
          ]
        }
      ]
    },
    {
      "cell_type": "markdown",
      "source": [
        "Once we have created the contingency table `Xtab`, our next step is to conduct a chi-square test using the data from the table. This statistical test will help us evaluate the significance of any relationship between the `test group` and `converted` variables.\n",
        "\n",
        "The chi-square test yields a p-value, which indicates the likelihood of observing the data's association between the variables if they were independent or no meaningful relationship. A low p-value indicates a strong association, while a high p-value suggests that any association is likely due to chance.\n",
        "\n",
        "We will use an alpha value of 0.05 as a threshold to determine whether to reject or accept the null hypothesis based on the p-value. This will allow us to determine if there is a statistically significant connection between the `test group` (with or without ads) and the `converted` variable (upselling of the product). If the p-value is less than 0.05 indicated that employing ads has a substantial impact on upselling the product."
      ],
      "metadata": {
        "id": "fg2-9DE6ysoH"
      }
    },
    {
      "cell_type": "code",
      "source": [
        "# Calculate the p-value\n",
        "chi2, pval, dof, expected = chi2_contingency(Xtab)\n",
        "\n",
        "# Print the p-value\n",
        "print(\"The t-test p-value is {:.4f}\".format(pval))\n",
        "\n",
        "if pval < 0.05:\n",
        "    print ( 'Reject the null hypothesis. There is a significant difference between the two groups.')\n",
        "else:\n",
        "    print ('Fail to reject the null hypothesis. There is no significant difference between the two groups.')"
      ],
      "metadata": {
        "colab": {
          "base_uri": "https://localhost:8080/"
        },
        "id": "3OtJLHRNLF9-",
        "outputId": "3aef2860-ba47-4dd7-f16a-a9e1e67a3ab8"
      },
      "execution_count": 22,
      "outputs": [
        {
          "output_type": "stream",
          "name": "stdout",
          "text": [
            "The t-test p-value is 0.0122\n",
            "Reject the null hypothesis. There is a significant difference between the two groups.\n"
          ]
        }
      ]
    },
    {
      "cell_type": "markdown",
      "source": [
        "Based on the obtained results from the test with a sample size of 5588, we observe a p-value of 0.0122, which is less than the significance level of 0.05. Consequently, we reject the null hypothesis (H0), which suggests that showing ads has no significant impact on the number of purchases. Instead, the data indicates that there is indeed a significant impact on the number of purchases with the existence of ads. In other words, employing ads has a notable effect on upselling the product."
      ],
      "metadata": {
        "id": "WWtRFZFwzU2U"
      }
    },
    {
      "cell_type": "markdown",
      "source": [
        "Next, we will conduct the same test with the same hypothesis, but this time using the second sample size of 16135. To ensure consistency across different runs, we will set the random_state parameter to 1. This allows us to control the randomness in the test, ensuring that the results remain consistent and reproducible across multiple executions.\n",
        "\n",
        "After performing the test with a sample size of 16135, we will again analyze the p-value to determine the statistical significance of the impact of ads on the number of purchases. This will enable us to compare the results between the two sample sizes and draw meaningful conclusions about the effect of employing ads on upselling the product with a larger sample size.\n",
        "\n",
        "As previously, we will parse the data based on the specified sample size for each test, which, in this case, is 16135."
      ],
      "metadata": {
        "id": "svs8Vlyr3JzY"
      }
    },
    {
      "cell_type": "code",
      "source": [
        "df_16135 =  df.groupby(\"test group\").sample(n=16135, random_state=1)\n",
        "df_16135['test group'].value_counts()"
      ],
      "metadata": {
        "id": "yfGqQOonNRs4",
        "colab": {
          "base_uri": "https://localhost:8080/"
        },
        "outputId": "3064efc3-a017-4984-f3ef-7455aa876743"
      },
      "execution_count": 23,
      "outputs": [
        {
          "output_type": "execute_result",
          "data": {
            "text/plain": [
              "ad     16135\n",
              "psa    16135\n",
              "Name: test group, dtype: int64"
            ]
          },
          "metadata": {},
          "execution_count": 23
        }
      ]
    },
    {
      "cell_type": "markdown",
      "source": [
        "As part of the analysis for the second test with a sample size of 16135, we will again utilize the pd.crosstab function. This function enables us to summarize and analyze the relationship between the `test group` and `converted` variables within the DataFrame."
      ],
      "metadata": {
        "id": "ZHe9l6qC3kRe"
      }
    },
    {
      "cell_type": "code",
      "source": [
        "Xtab = pd.crosstab(df_16135['test group'], df_16135['converted'])"
      ],
      "metadata": {
        "id": "zGl2jyq7DF-t"
      },
      "execution_count": 24,
      "outputs": []
    },
    {
      "cell_type": "markdown",
      "source": [
        "Following the acquisition of the contingency table, our subsequent action involves performing a chi-square test using the data from the table. This step is to determine whether utilizing a sample size of 16135 will yield results that either reject the null hypothesis or fail to reject it, similar to the previous test."
      ],
      "metadata": {
        "id": "AjHBBJQB4IkD"
      }
    },
    {
      "cell_type": "code",
      "source": [
        "# Calculate the p-value\n",
        "chi2, pval, dof, expected = chi2_contingency(Xtab)\n",
        "\n",
        "# Print the p-value\n",
        "print(\"The t-test p-value is {:.4f}\".format(pval))\n",
        "\n",
        "if pval < 0.05:\n",
        "    print ( 'Reject the null hypothesis. There is a significant difference between the two groups.')\n",
        "else:\n",
        "    print ('Fail to reject the null hypothesis. There is no significant difference between the two groups.')"
      ],
      "metadata": {
        "id": "U4EDnPRjCPbF",
        "colab": {
          "base_uri": "https://localhost:8080/"
        },
        "outputId": "cd930cea-1d6e-480b-bf0f-287b3dba1c06"
      },
      "execution_count": 25,
      "outputs": [
        {
          "output_type": "stream",
          "name": "stdout",
          "text": [
            "The t-test p-value is 0.0000\n",
            "Reject the null hypothesis. There is a significant difference between the two groups.\n"
          ]
        }
      ]
    },
    {
      "cell_type": "markdown",
      "source": [
        "From the results obtained in the test with a sample size of 16,135, we can observe a p-value of 0.0000, which is smaller than the significance level of 0.05. As a result, we reject the null hypothesis (H0), which posits that showing ads has no significant impact on the number of purchases. Instead, the data suggests a substantial effect on the number of purchases when ads are present. In other words, employing ads significantly influences upselling the product, as supported by the statistical analysis.\n",
        "\n",
        "After conducting A/B tests using sample sizes obtained from both the `GofChisquarePower` function and our manual calculations, we arrive at consistent outcomes. In both cases, we reject the null hypothesis (H0), which indicates that showing ads does have a significant impact on the number of purchases.\n",
        "\n",
        "This indicates that employing ads does result in a significant difference in the number of purchases. In other words, the presence of ads does make a noteworthy difference in the product upselling process , as evidenced by the statistical analysis conducted in the A/B tests."
      ],
      "metadata": {
        "id": "RMVj_SFf4-UY"
      }
    },
    {
      "cell_type": "markdown",
      "source": [
        "# Acknowledgements and Recommendations\n",
        "The dataset was uploaded to [Kaggle](https://www.kaggle.com/datasets/faviovaz/marketing-ab-testing?datasetId=1660669&sortBy=voteCount)\n",
        " by the user [FAVIOVÁZQUEZ](https://www.kaggle.com/faviovaz) around August 2022.\n",
        "\n",
        "For future analysis, I suggest conducting a thorough exploration of how ads influence consumer behavior and finding the optimal ad exposure level that drives product purchases. To achieve this, consider performing A/B Testing with Different Ad Exposure Level.\n",
        "\n",
        "---\n",
        "\n",
        "\n",
        "# Data License\n",
        "This data is licensed under [Creative Commons Attribution-Universal (CC0 1.0)](https://creativecommons.org/publicdomain/zero/1.0/). I hereby affirm that I do not possess any material nor monetary benefit by doing this project.\n",
        "\n",
        "![image.png](data:image/png;base64,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)"
      ],
      "metadata": {
        "id": "vJSjX2MSklg5"
      }
    }
  ]
}